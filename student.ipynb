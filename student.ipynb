{
 "cells": [
  {
   "cell_type": "markdown",
   "metadata": {},
   "source": [
    "## Final Project Submission \n",
    "\n",
    "Please fill out:\n",
    "* Student name: MARYIMMACULATE MUMBI KARIUKI \n",
    "* Student pace: full time\n",
    "* Scheduled project review date/time:Friday, September 15th,2023.  12.00 noon. \n",
    "* Instructor name: Simon Karu\n",
    "* Blog post URL:\n"
   ]
  },
  {
   "cell_type": "markdown",
   "metadata": {},
   "source": [
    "# Importing the relevant modules required .\n",
    "\n",
    "\n"
   ]
  },
  {
   "cell_type": "code",
   "execution_count": 196,
   "metadata": {},
   "outputs": [],
   "source": [
    "# Import required libraries \n",
    "import numpy as np\n",
    "import pandas as pd\n",
    "import sqlite3\n",
    "import datetime\n",
    "import csv\n",
    "\n",
    "\n",
    "# Import visualization libraries\n",
    "import matplotlib.pyplot as plt\n",
    "%matplotlib inline\n",
    " \n",
    "import seaborn as sns  \n"
   ]
  },
  {
   "cell_type": "markdown",
   "metadata": {},
   "source": [
    "# DATA EXPLORATION\n"
   ]
  },
  {
   "cell_type": "markdown",
   "metadata": {},
   "source": [
    "We have a dataset named bom.movie_gross.csv.gz and we need to look at how it is structured.\n",
    "To acheve this we get infomation about the dataset as shown below."
   ]
  },
  {
   "cell_type": "code",
   "execution_count": 197,
   "metadata": {},
   "outputs": [
    {
     "name": "stdout",
     "output_type": "stream",
     "text": [
      "<class 'pandas.core.frame.DataFrame'>\n",
      "RangeIndex: 3387 entries, 0 to 3386\n",
      "Data columns (total 5 columns):\n",
      " #   Column          Non-Null Count  Dtype  \n",
      "---  ------          --------------  -----  \n",
      " 0   title           3387 non-null   object \n",
      " 1   studio          3382 non-null   object \n",
      " 2   domestic_gross  3359 non-null   float64\n",
      " 3   foreign_gross   2037 non-null   object \n",
      " 4   year            3387 non-null   int64  \n",
      "dtypes: float64(1), int64(1), object(3)\n",
      "memory usage: 132.4+ KB\n"
     ]
    }
   ],
   "source": [
    "#Using pandas, we are creating a dataFrame called \"bom_movie_gross\" and using it to directly read from the file path 'zippedData/bom.movie_gross.csv.gz'\n",
    "bom_movie_gross = pd.read_csv('zippedData/bom.movie_gross.csv.gz')\n",
    "\n",
    "# Get information on each column's data types and data value counts as a starting point for cleaning\n",
    "bom_movie_gross.info()\n",
    "\n",
    "# How will you id movies other than title? how will you do this in a smart way?"
   ]
  },
  {
   "cell_type": "markdown",
   "metadata": {},
   "source": [
    "Next we have to check how the data inside is stuctured."
   ]
  },
  {
   "cell_type": "code",
   "execution_count": 198,
   "metadata": {
    "scrolled": true
   },
   "outputs": [
    {
     "data": {
      "text/html": [
       "<div>\n",
       "<style scoped>\n",
       "    .dataframe tbody tr th:only-of-type {\n",
       "        vertical-align: middle;\n",
       "    }\n",
       "\n",
       "    .dataframe tbody tr th {\n",
       "        vertical-align: top;\n",
       "    }\n",
       "\n",
       "    .dataframe thead th {\n",
       "        text-align: right;\n",
       "    }\n",
       "</style>\n",
       "<table border=\"1\" class=\"dataframe\">\n",
       "  <thead>\n",
       "    <tr style=\"text-align: right;\">\n",
       "      <th></th>\n",
       "      <th>domestic_gross</th>\n",
       "      <th>year</th>\n",
       "    </tr>\n",
       "  </thead>\n",
       "  <tbody>\n",
       "    <tr>\n",
       "      <th>count</th>\n",
       "      <td>3.359000e+03</td>\n",
       "      <td>3387.000000</td>\n",
       "    </tr>\n",
       "    <tr>\n",
       "      <th>mean</th>\n",
       "      <td>2.874585e+07</td>\n",
       "      <td>2013.958075</td>\n",
       "    </tr>\n",
       "    <tr>\n",
       "      <th>std</th>\n",
       "      <td>6.698250e+07</td>\n",
       "      <td>2.478141</td>\n",
       "    </tr>\n",
       "    <tr>\n",
       "      <th>min</th>\n",
       "      <td>1.000000e+02</td>\n",
       "      <td>2010.000000</td>\n",
       "    </tr>\n",
       "    <tr>\n",
       "      <th>25%</th>\n",
       "      <td>1.200000e+05</td>\n",
       "      <td>2012.000000</td>\n",
       "    </tr>\n",
       "    <tr>\n",
       "      <th>50%</th>\n",
       "      <td>1.400000e+06</td>\n",
       "      <td>2014.000000</td>\n",
       "    </tr>\n",
       "    <tr>\n",
       "      <th>75%</th>\n",
       "      <td>2.790000e+07</td>\n",
       "      <td>2016.000000</td>\n",
       "    </tr>\n",
       "    <tr>\n",
       "      <th>max</th>\n",
       "      <td>9.367000e+08</td>\n",
       "      <td>2018.000000</td>\n",
       "    </tr>\n",
       "  </tbody>\n",
       "</table>\n",
       "</div>"
      ],
      "text/plain": [
       "       domestic_gross         year\n",
       "count    3.359000e+03  3387.000000\n",
       "mean     2.874585e+07  2013.958075\n",
       "std      6.698250e+07     2.478141\n",
       "min      1.000000e+02  2010.000000\n",
       "25%      1.200000e+05  2012.000000\n",
       "50%      1.400000e+06  2014.000000\n",
       "75%      2.790000e+07  2016.000000\n",
       "max      9.367000e+08  2018.000000"
      ]
     },
     "execution_count": 198,
     "metadata": {},
     "output_type": "execute_result"
    }
   ],
   "source": [
    "bom_movie_gross = pd.read_csv('zippedData/bom.movie_gross.csv.gz')\n",
    "\n",
    "# Get information on each column's data types and data value counts as a starting point for cleaning\n",
    "bom_movie_gross.describe()\n",
    "\n"
   ]
  },
  {
   "cell_type": "markdown",
   "metadata": {},
   "source": [
    "A question arises.\n",
    "What's the relevance of this data?\n",
    "In other words when was this data collected?"
   ]
  },
  {
   "cell_type": "code",
   "execution_count": 199,
   "metadata": {},
   "outputs": [
    {
     "data": {
      "text/plain": [
       "count    3387.000000\n",
       "mean     2013.958075\n",
       "std         2.478141\n",
       "min      2010.000000\n",
       "25%      2012.000000\n",
       "50%      2014.000000\n",
       "75%      2016.000000\n",
       "max      2018.000000\n",
       "Name: year, dtype: float64"
      ]
     },
     "execution_count": 199,
     "metadata": {},
     "output_type": "execute_result"
    }
   ],
   "source": [
    "bom_movie_gross['year'].describe()"
   ]
  },
  {
   "cell_type": "markdown",
   "metadata": {},
   "source": [
    "# Data cleaning\n"
   ]
  },
  {
   "cell_type": "markdown",
   "metadata": {},
   "source": [
    "What are we to do with missing values?\n",
    "First we check whether there exists missing values in our data and if they exist how many nuls are there\n"
   ]
  },
  {
   "cell_type": "code",
   "execution_count": 200,
   "metadata": {},
   "outputs": [],
   "source": [
    "# Function to check for missing values in a user-specified column of a DataFrame\n",
    "def missing_value_count(data, col_name):\n",
    "    return data[col_name].isnull().sum()\n",
    "\n"
   ]
  },
  {
   "cell_type": "code",
   "execution_count": 201,
   "metadata": {},
   "outputs": [
    {
     "data": {
      "text/plain": [
       "28"
      ]
     },
     "execution_count": 201,
     "metadata": {},
     "output_type": "execute_result"
    }
   ],
   "source": [
    "#total missing values in \"domestic_gross\" column.\n",
    "missing_value_count(bom_movie_gross, 'domestic_gross')"
   ]
  },
  {
   "cell_type": "code",
   "execution_count": 202,
   "metadata": {},
   "outputs": [
    {
     "data": {
      "text/plain": [
       "1350"
      ]
     },
     "execution_count": 202,
     "metadata": {},
     "output_type": "execute_result"
    }
   ],
   "source": [
    "#total missing values in \"foreign_gross\" column.\n",
    "missing_value_count(bom_movie_gross, 'foreign_gross')"
   ]
  },
  {
   "cell_type": "code",
   "execution_count": 203,
   "metadata": {},
   "outputs": [
    {
     "data": {
      "text/plain": [
       "5"
      ]
     },
     "execution_count": 203,
     "metadata": {},
     "output_type": "execute_result"
    }
   ],
   "source": [
    "#total missing values in \"studio\" column.\n",
    "missing_value_count(bom_movie_gross, 'studio')"
   ]
  },
  {
   "cell_type": "markdown",
   "metadata": {},
   "source": [
    "Since we can't be able to use the nulls we will have to drop them."
   ]
  },
  {
   "cell_type": "code",
   "execution_count": 204,
   "metadata": {},
   "outputs": [],
   "source": [
    "bom_movie_gross.dropna(inplace=True)\n"
   ]
  },
  {
   "cell_type": "markdown",
   "metadata": {},
   "source": [
    "Confirm that we have no nulls."
   ]
  },
  {
   "cell_type": "code",
   "execution_count": 205,
   "metadata": {},
   "outputs": [
    {
     "data": {
      "text/plain": [
       "title             0\n",
       "studio            0\n",
       "domestic_gross    0\n",
       "foreign_gross     0\n",
       "year              0\n",
       "dtype: int64"
      ]
     },
     "execution_count": 205,
     "metadata": {},
     "output_type": "execute_result"
    }
   ],
   "source": [
    "bom_movie_gross.isnull().sum()"
   ]
  },
  {
   "cell_type": "code",
   "execution_count": 206,
   "metadata": {},
   "outputs": [],
   "source": [
    "# Convert the 'year' column to datetime format\n",
    "pd.to_datetime(bom_movie_gross['year'])\n",
    "\n",
    "# Convert 'foreign_gross' and 'domestic_gross' columns to string type\n",
    "bom_movie_gross['foreign_gross'] = bom_movie_gross['foreign_gross'].astype(str)\n",
    "bom_movie_gross['domestic_gross'] = bom_movie_gross['domestic_gross'].astype(str)\n",
    "\n",
    "# Remove non-numeric characters and convert 'foreign_gross' and 'domestic_gross' to float type\n",
    "bom_movie_gross['foreign_gross'] = bom_movie_gross['foreign_gross'].str.replace('[A-Za-z]', '').str.replace('.', '').str.replace(',', '.').astype(float)\n",
    "bom_movie_gross['domestic_gross'] = bom_movie_gross['domestic_gross'].str.replace('[A-Za-z]', '').str.replace('.', '').str.replace(',', '.').astype(float)\n"
   ]
  },
  {
   "cell_type": "code",
   "execution_count": null,
   "metadata": {},
   "outputs": [],
   "source": []
  },
  {
   "cell_type": "markdown",
   "metadata": {},
   "source": [
    "We get rid of duplicate values and check the number of columns we have."
   ]
  },
  {
   "cell_type": "code",
   "execution_count": 207,
   "metadata": {},
   "outputs": [
    {
     "data": {
      "text/plain": [
       "False"
      ]
     },
     "execution_count": 207,
     "metadata": {},
     "output_type": "execute_result"
    }
   ],
   "source": [
    "# Check for duplicate values in the column 'title'\n",
    "bom_movie_gross.title.duplicated().any()"
   ]
  },
  {
   "cell_type": "code",
   "execution_count": 208,
   "metadata": {},
   "outputs": [
    {
     "data": {
      "text/plain": [
       "(2007, 5)"
      ]
     },
     "execution_count": 208,
     "metadata": {},
     "output_type": "execute_result"
    }
   ],
   "source": [
    "#check dimensionality of  our dataframe.\n",
    "bom_movie_gross.shape"
   ]
  },
  {
   "cell_type": "code",
   "execution_count": 209,
   "metadata": {},
   "outputs": [
    {
     "data": {
      "text/plain": [
       "count    2.007000e+03\n",
       "mean     4.701984e+08\n",
       "std      8.162689e+08\n",
       "min      4.000000e+03\n",
       "25%      6.700000e+06\n",
       "50%      1.670000e+08\n",
       "75%      5.605000e+08\n",
       "max      9.367000e+09\n",
       "Name: domestic_gross, dtype: float64"
      ]
     },
     "execution_count": 209,
     "metadata": {},
     "output_type": "execute_result"
    }
   ],
   "source": [
    "bom_movie_gross['domestic_gross'].describe()"
   ]
  },
  {
   "cell_type": "code",
   "execution_count": 210,
   "metadata": {},
   "outputs": [
    {
     "data": {
      "text/plain": [
       "count    2.007000e+03\n",
       "mean     7.579038e+07\n",
       "std      1.381796e+08\n",
       "min      1.010000e+00\n",
       "25%      3.900000e+06\n",
       "50%      1.940000e+07\n",
       "75%      7.595000e+07\n",
       "max      9.605000e+08\n",
       "Name: foreign_gross, dtype: float64"
      ]
     },
     "execution_count": 210,
     "metadata": {},
     "output_type": "execute_result"
    }
   ],
   "source": [
    "bom_movie_gross['foreign_gross'].describe()"
   ]
  },
  {
   "cell_type": "code",
   "execution_count": 211,
   "metadata": {},
   "outputs": [
    {
     "data": {
      "text/plain": [
       "count     2007\n",
       "unique     172\n",
       "top       Uni.\n",
       "freq       144\n",
       "Name: studio, dtype: object"
      ]
     },
     "execution_count": 211,
     "metadata": {},
     "output_type": "execute_result"
    }
   ],
   "source": [
    "bom_movie_gross['studio'].describe()"
   ]
  },
  {
   "cell_type": "markdown",
   "metadata": {},
   "source": [
    "# Visualization"
   ]
  },
  {
   "cell_type": "code",
   "execution_count": 212,
   "metadata": {},
   "outputs": [],
   "source": [
    "def compare_gross(data):\n",
    "    plt.figure(figsize=(12, 6))\n",
    "    plt.scatter(data['domestic_gross'], data['foreign_gross'], alpha=0.5)\n",
    "    plt.title('Comparison of Domestic Gross vs. Foreign Gross')\n",
    "    plt.xlabel('Domestic Gross')\n",
    "    plt.ylabel('Foreign Gross')\n",
    "    plt.grid(True)\n",
    "    plt.show()\n",
    "\n"
   ]
  },
  {
   "cell_type": "code",
   "execution_count": 213,
   "metadata": {},
   "outputs": [
    {
     "data": {
      "image/png": "[encoded data removed]",
      "text/plain": [
       "<Figure size 864x432 with 1 Axes>"
      ]
     },
     "metadata": {
      "needs_background": "light"
     },
     "output_type": "display_data"
    }
   ],
   "source": [
    "# Visualizing the comparison between 'domestic_gross' and 'foreign_gross'\n",
    "compare_gross(bom_movie_gross)"
   ]
  },
  {
   "cell_type": "markdown",
   "metadata": {},
   "source": [
    "# FINDINGS"
   ]
  },
  {
   "cell_type": "markdown",
   "metadata": {},
   "source": [
    "There is a weak or nonexistent linear relationship between the performance of movies at the domestic box office and  foreign box office perfomances."
   ]
  },
  {
   "cell_type": "markdown",
   "metadata": {},
   "source": [
    "# Im.db\n"
   ]
  },
  {
   "cell_type": "markdown",
   "metadata": {},
   "source": [
    "\n",
    "I was required to do a recommendation to microsoft on the type of films to create since they have decided to have a movie studio.\n",
    "In order to do  this one is charged with exploring what type of films are currently  doing the best in the box office.\n",
    "To achieve this we were given a dataset named Im.db.zip.\n",
    "I had to unzip it and stored it in a directory named data and the database file we are to use is im.db"
   ]
  },
  {
   "cell_type": "code",
   "execution_count": 219,
   "metadata": {},
   "outputs": [],
   "source": [
    "# Function to create a connection to the database\n",
    "def connect_to_database(database_name):\n",
    "    con = sqlite3.connect(database_name)\n",
    "    cur = con.cursor()\n",
    "    return con, cur"
   ]
  },
  {
   "cell_type": "code",
   "execution_count": 220,
   "metadata": {},
   "outputs": [],
   "source": [
    "database_name = \"datas/im.db\"\n",
    "con, cur = connect_to_database(database_name)"
   ]
  },
  {
   "cell_type": "markdown",
   "metadata": {},
   "source": [
    "Let's confirm if we can access the movie_basics table in the database."
   ]
  },
  {
   "cell_type": "code",
   "execution_count": 221,
   "metadata": {},
   "outputs": [
    {
     "data": {
      "text/plain": [
       "('tt0063540', 'Sunghursh', 'Sunghursh', 2013, 175.0, 'Action,Crime,Drama')"
      ]
     },
     "execution_count": 221,
     "metadata": {},
     "output_type": "execute_result"
    }
   ],
   "source": [
    "#Check if we have made the connection to movie_basics\n",
    "cur.execute(\"SELECT * FROM movie_basics\")\n",
    "cur.fetchone()"
   ]
  },
  {
   "cell_type": "markdown",
   "metadata": {},
   "source": [
    "We also confirm whether we have access to movie_ratings table."
   ]
  },
  {
   "cell_type": "code",
   "execution_count": 222,
   "metadata": {},
   "outputs": [
    {
     "data": {
      "text/plain": [
       "('tt10356526', 8.3, 31)"
      ]
     },
     "execution_count": 222,
     "metadata": {},
     "output_type": "execute_result"
    }
   ],
   "source": [
    "# Check if we have made the connection to movie_ratings\n",
    "cur.execute(\"SELECT * FROM movie_ratings\")\n",
    "cur.fetchone()"
   ]
  },
  {
   "cell_type": "markdown",
   "metadata": {},
   "source": [
    "# Data Exploration"
   ]
  },
  {
   "cell_type": "markdown",
   "metadata": {},
   "source": [
    "Now that we have the two tables we are going to need the following columns to analyze our data\n",
    "1.movie_id \n",
    "2.original_title\n",
    "3.start_year\n",
    "4.runtime_minutes\n",
    "5.averagerating\n",
    "6.numvotes\n",
    "7.genres\n"
   ]
  },
  {
   "cell_type": "code",
   "execution_count": 223,
   "metadata": {},
   "outputs": [],
   "source": [
    "# Function to create a new table \"movie_tables\" by joining \"movie_basics\" and \"movie_ratings\"\n",
    "def create_movie_tables(cur):\n",
    "    cur.execute(\"\"\"\n",
    "        CREATE TABLE movie_tables AS\n",
    "        SELECT movie_basics.movie_id, movie_basics.original_title, movie_basics.start_year, \n",
    "               movie_basics.runtime_minutes, movie_ratings.averagerating, movie_ratings.numvotes, movie_basics.genres\n",
    "        FROM movie_basics\n",
    "        JOIN movie_ratings ON movie_basics.movie_id = movie_ratings.movie_id\n",
    "    \"\"\")"
   ]
  },
  {
   "cell_type": "code",
   "execution_count": 224,
   "metadata": {},
   "outputs": [],
   "source": [
    "# Create \"movie_tables\" by joining \"movie_basics\" and \"movie_ratings\"\n",
    "create_movie_tables(cur)"
   ]
  },
  {
   "cell_type": "markdown",
   "metadata": {},
   "source": [
    "We confirm whether the table has been created and count the number of entries"
   ]
  },
  {
   "cell_type": "code",
   "execution_count": 225,
   "metadata": {},
   "outputs": [
    {
     "data": {
      "text/plain": [
       "('tt0063540', 'Sunghursh', 2013, 175.0, 7.0, 77, 'Action,Crime,Drama')"
      ]
     },
     "execution_count": 225,
     "metadata": {},
     "output_type": "execute_result"
    }
   ],
   "source": [
    "# Check if \"movie_tables\" has been created\n",
    "cur.execute(\"SELECT * FROM movie_tables\")\n",
    "cur.fetchone()"
   ]
  },
  {
   "cell_type": "code",
   "execution_count": 226,
   "metadata": {},
   "outputs": [],
   "source": [
    "def count_rows_in_table(cur, table_name):\n",
    "    try:\n",
    "        # Execute a SQL query to count the rows in the specified table\n",
    "        cur.execute(f\"SELECT COUNT(*) FROM {table_name}\")\n",
    "        \n",
    "        # Fetch the result of the count query\n",
    "        count = cur.fetchone()[0]\n",
    "        \n",
    "        return count\n",
    "    \n",
    "    except sqlite3.Error as e:\n",
    "        print(f\"Error counting rows in {table_name}: {e}\")\n",
    "        return None\n"
   ]
  },
  {
   "cell_type": "code",
   "execution_count": 228,
   "metadata": {},
   "outputs": [
    {
     "name": "stdout",
     "output_type": "stream",
     "text": [
      "Number of rows in movie_tables: 73856\n"
     ]
    }
   ],
   "source": [
    "# Count the rows in the \"movie_tables\" table\n",
    "table_name = \"movie_tables\"\n",
    "row_count = count_rows_in_table(cur, table_name)\n",
    "\n",
    "if row_count is not None:\n",
    "    print(f\"Number of rows in {table_name}: {row_count}\")\n"
   ]
  },
  {
   "cell_type": "markdown",
   "metadata": {},
   "source": [
    "Next we remove all the null entries from our movie_tables"
   ]
  },
  {
   "cell_type": "code",
   "execution_count": 229,
   "metadata": {},
   "outputs": [],
   "source": [
    "# Function to remove rows with null values in specific columns\n",
    "def remove_null_rows(cur):\n",
    "    cur.execute(\"\"\"\n",
    "        DELETE FROM movie_tables\n",
    "        WHERE movie_id IS NULL OR original_title IS NULL OR start_year IS NULL OR\n",
    "              runtime_minutes IS NULL OR averagerating IS NULL OR numvotes IS NULL OR genres IS NULL\n",
    "    \"\"\")"
   ]
  },
  {
   "cell_type": "code",
   "execution_count": 230,
   "metadata": {},
   "outputs": [],
   "source": [
    "# Remove rows with null values\n",
    "remove_null_rows(cur)"
   ]
  },
  {
   "cell_type": "markdown",
   "metadata": {},
   "source": [
    "We confirm that the nulls are removed "
   ]
  },
  {
   "cell_type": "code",
   "execution_count": 231,
   "metadata": {},
   "outputs": [
    {
     "name": "stdout",
     "output_type": "stream",
     "text": [
      "Number of rows in movie_tables: 65720\n"
     ]
    }
   ],
   "source": [
    "\n",
    "# Count the rows in the \"movie_tables\" table\n",
    "table_name = \"movie_tables\"\n",
    "row_count = count_rows_in_table(cur, table_name)\n",
    "\n",
    "if row_count is not None:\n",
    "    print(f\"Number of rows in {table_name}: {row_count}\")"
   ]
  },
  {
   "cell_type": "markdown",
   "metadata": {},
   "source": [
    "# ANALYZE THE DATA"
   ]
  },
  {
   "cell_type": "markdown",
   "metadata": {},
   "source": [
    "Question 1.\n",
    "Do we need to use the best rated movies?\n",
    "To answer this we take a look at the best rated movies"
   ]
  },
  {
   "cell_type": "code",
   "execution_count": 232,
   "metadata": {},
   "outputs": [],
   "source": [
    "# Function to get the top 5 movies with the highest average ratings\n",
    "def get_top_rated_movies(cur):\n",
    "    cur.execute(\"\"\"\n",
    "        SELECT DISTINCT original_title, numvotes\n",
    "        FROM movie_tables\n",
    "        ORDER BY averagerating DESC\n",
    "        LIMIT 5\n",
    "    \"\"\")\n",
    "    return cur.fetchall()"
   ]
  },
  {
   "cell_type": "code",
   "execution_count": 233,
   "metadata": {},
   "outputs": [
    {
     "data": {
      "text/plain": [
       "[('Exteriores: Mulheres Brasileiras na Diplomacia', 5),\n",
       " ('The Dark Knight: The Ballad of the N Word', 5),\n",
       " ('Freeing Bernie Baran', 5),\n",
       " ('Hercule contre Hermès', 5),\n",
       " ('I Was Born Yesterday!', 6)]"
      ]
     },
     "execution_count": 233,
     "metadata": {},
     "output_type": "execute_result"
    }
   ],
   "source": [
    "# Get the top 5 movies with the highest average ratings\n",
    "best_averagerating = get_top_rated_movies(cur)\n",
    "best_averagerating"
   ]
  },
  {
   "cell_type": "markdown",
   "metadata": {},
   "source": [
    "We also check for the lowest rated movies"
   ]
  },
  {
   "cell_type": "code",
   "execution_count": 234,
   "metadata": {},
   "outputs": [],
   "source": [
    "# Function to get the top 5 movies with the lowest average ratings\n",
    "def get_bottom_rated_movies(cur):\n",
    "    cur.execute(\"\"\"\n",
    "        SELECT DISTINCT original_title, numvotes\n",
    "        FROM movie_tables\n",
    "        ORDER BY averagerating ASC\n",
    "        LIMIT 5\n",
    "    \"\"\")\n",
    "    return cur.fetchall()"
   ]
  },
  {
   "cell_type": "code",
   "execution_count": 235,
   "metadata": {},
   "outputs": [
    {
     "data": {
      "text/plain": [
       "[('Hito no sabaku', 449),\n",
       " ('Kamifûsen', 489),\n",
       " ('Kikkake wa You!', 21),\n",
       " ('A Moment of Youth', 352),\n",
       " ('Kodokuna wakusei', 433)]"
      ]
     },
     "execution_count": 235,
     "metadata": {},
     "output_type": "execute_result"
    }
   ],
   "source": [
    "# Get the top 5 movies with the lowest average ratings\n",
    "worst_averagerating = get_bottom_rated_movies(cur)\n",
    "worst_averagerating"
   ]
  },
  {
   "cell_type": "markdown",
   "metadata": {},
   "source": [
    "Having got the result brings up another question\n",
    "Question 2 & 3\n",
    "Does the highest rated movie have the most votes?\n",
    "Does the lowest rated movie have the least votes?\n",
    "Since we are focused on the best we leave the latter for now."
   ]
  },
  {
   "cell_type": "code",
   "execution_count": 236,
   "metadata": {},
   "outputs": [],
   "source": [
    "# Function to get the top 10 movies with the highest number of votes\n",
    "def get_most_voted_movies(cur):\n",
    "    cur.execute(\"\"\"\n",
    "        SELECT DISTINCT *\n",
    "        FROM movie_tables\n",
    "        ORDER BY numvotes ASC\n",
    "        LIMIT 10\n",
    "    \"\"\")\n",
    "    return cur.fetchall()"
   ]
  },
  {
   "cell_type": "code",
   "execution_count": 237,
   "metadata": {},
   "outputs": [
    {
     "data": {
      "text/plain": [
       "[('tt0276568', 'To Chase a Million', 2018, 97.0, 7.4, 5, 'Action,Drama'),\n",
       " ('tt0844699',\n",
       "  \"Ivan Mosjoukine ou L'enfant du carnaval\",\n",
       "  2016,\n",
       "  67.0,\n",
       "  9.0,\n",
       "  5,\n",
       "  'Documentary'),\n",
       " ('tt10009602', 'Meu Nome é Daniel', 2018, 82.0, 8.0, 5, 'Documentary'),\n",
       " ('tt10010134',\n",
       "  \"Versailles Rediscovered - The Sun King's Vanished Palace\",\n",
       "  2019,\n",
       "  52.0,\n",
       "  7.0,\n",
       "  5,\n",
       "  'Documentary'),\n",
       " ('tt10011772', 'Balloons over Babylon', 2019, 70.0, 8.2, 5, 'Documentary'),\n",
       " ('tt10043732', 'Oblepikhovoe leto', 2018, 87.0, 6.4, 5, 'Biography,Drama'),\n",
       " ('tt10044934', 'Bumi Itu Bulat', 2019, 103.0, 6.6, 5, 'Drama'),\n",
       " ('tt10073008', 'The Shadow of Gold', 2019, 78.0, 7.8, 5, 'Documentary'),\n",
       " ('tt10125774', 'Mens', 2019, 97.0, 5.6, 5, 'Drama'),\n",
       " ('tt10128580', 'White Mama', 2018, 97.0, 7.2, 5, 'Documentary')]"
      ]
     },
     "execution_count": 237,
     "metadata": {},
     "output_type": "execute_result"
    }
   ],
   "source": [
    "# Get the top 10 movies with the highest number of votes\n",
    "most_voted_movies = get_most_voted_movies(cur)\n",
    "most_voted_movies"
   ]
  },
  {
   "cell_type": "markdown",
   "metadata": {},
   "source": [
    "Next we search the best voted for movies and we order them by the average rating they have."
   ]
  },
  {
   "cell_type": "code",
   "execution_count": 244,
   "metadata": {},
   "outputs": [],
   "source": [
    "# Function to get the top 9 movies with the highest number of votes, ordered by average rating\n",
    "def get_highest_voted_movies(cur):\n",
    "    cur.execute(\"\"\"\n",
    "        SELECT DISTINCT averagerating, numvotes\n",
    "        FROM movie_tables\n",
    "        ORDER BY numvotes DESC\n",
    "        \n",
    "    \"\"\")\n",
    "    return cur.fetchall()"
   ]
  },
  {
   "cell_type": "code",
   "execution_count": 245,
   "metadata": {},
   "outputs": [
    {
     "data": {
      "text/plain": [
       "[(8.8, 1841066),\n",
       " (8.4, 1387769),\n",
       " (8.6, 1299334),\n",
       " (8.4, 1211405),\n",
       " (8.1, 1183655),\n",
       " (8.2, 1035358),\n",
       " (8.1, 1005960),\n",
       " (8.1, 948394),\n",
       " (8.0, 820847),\n",
       " (7.2, 795227),\n",
       " (8.0, 784780),\n",
       " (8.1, 780910),\n",
       " (8.1, 761592),\n",
       " (7.9, 719629),\n",
       " (7.7, 710018),\n",
       " (7.2, 692794),\n",
       " (8.1, 691835),\n",
       " (7.0, 683264),\n",
       " (8.3, 682218),\n",
       " (8.0, 680116),\n",
       " (8.5, 677343),\n",
       " (8.5, 670926),\n",
       " (6.9, 668137),\n",
       " (7.8, 666252),\n",
       " (7.3, 665594),\n",
       " (7.0, 657690),\n",
       " (8.0, 648854),\n",
       " (7.1, 647288),\n",
       " (8.1, 633604),\n",
       " (8.0, 621193),\n",
       " (7.7, 621018),\n",
       " (8.0, 620834),\n",
       " (8.0, 620079),\n",
       " (8.5, 616916),\n",
       " (8.1, 611299),\n",
       " (7.7, 608930),\n",
       " (8.0, 593629),\n",
       " (7.8, 592221),\n",
       " (7.8, 583507),\n",
       " (8.1, 577301),\n",
       " (6.5, 576909),\n",
       " (7.5, 575455),\n",
       " (7.7, 568578),\n",
       " (7.8, 565563),\n",
       " (8.1, 560270),\n",
       " (7.0, 553751),\n",
       " (7.3, 553156),\n",
       " (7.9, 546284),\n",
       " (7.7, 544510),\n",
       " (6.9, 540996),\n",
       " (7.0, 539338),\n",
       " (7.0, 538720),\n",
       " (6.9, 538367),\n",
       " (8.2, 536181),\n",
       " (7.9, 535836),\n",
       " (7.7, 534683),\n",
       " (6.0, 533039),\n",
       " (8.1, 526273),\n",
       " (7.0, 525632),\n",
       " (7.8, 521495),\n",
       " (7.7, 519417),\n",
       " (7.5, 516998),\n",
       " (7.3, 516148),\n",
       " (7.9, 515483),\n",
       " (7.5, 514510),\n",
       " (7.3, 501213),\n",
       " (7.4, 500595),\n",
       " (7.6, 497363),\n",
       " (7.4, 492490),\n",
       " (7.5, 487527),\n",
       " (7.9, 482995),\n",
       " (7.7, 482917),\n",
       " (7.8, 478592),\n",
       " (7.2, 477771),\n",
       " (7.6, 473020),\n",
       " (8.0, 467232),\n",
       " (7.9, 466580),\n",
       " (7.7, 464511),\n",
       " (7.1, 462903),\n",
       " (7.0, 453966),\n",
       " (7.5, 452036),\n",
       " (7.4, 449942),\n",
       " (6.6, 447624),\n",
       " (7.7, 445535),\n",
       " (6.9, 443667),\n",
       " (8.8, 441135),\n",
       " (7.4, 438621),\n",
       " (7.4, 436830),\n",
       " (8.0, 436070),\n",
       " (7.8, 434966),\n",
       " (7.3, 433165),\n",
       " (6.5, 432800),\n",
       " (7.4, 428142),\n",
       " (7.5, 426302),\n",
       " (7.7, 425530),\n",
       " (7.7, 424542),\n",
       " (8.0, 422671),\n",
       " (7.2, 418221),\n",
       " (7.9, 404476),\n",
       " (8.2, 403755),\n",
       " (6.4, 403194),\n",
       " (8.0, 402462),\n",
       " (7.3, 401915),\n",
       " (6.7, 401286),\n",
       " (7.7, 400474),\n",
       " (6.7, 399703),\n",
       " (6.9, 398695),\n",
       " (7.5, 397233),\n",
       " (6.6, 395572),\n",
       " (7.5, 394189),\n",
       " (8.1, 393437),\n",
       " (8.1, 392699),\n",
       " (7.8, 391735),\n",
       " (7.6, 390199),\n",
       " (6.6, 388363),\n",
       " (7.8, 387580),\n",
       " (7.8, 387402),\n",
       " (6.8, 387038),\n",
       " (8.0, 383446),\n",
       " (7.6, 381993),\n",
       " (6.6, 379050),\n",
       " (8.0, 376241),\n",
       " (7.0, 371759),\n",
       " (7.8, 371204),\n",
       " (8.1, 366904),\n",
       " (6.2, 366409),\n",
       " (7.8, 366366),\n",
       " (7.3, 365353),\n",
       " (8.1, 365110),\n",
       " (7.6, 363977),\n",
       " (7.7, 361534),\n",
       " (6.6, 360556),\n",
       " (7.4, 359123),\n",
       " (6.5, 358813),\n",
       " (7.3, 358543),\n",
       " (7.0, 356556),\n",
       " (7.7, 356500),\n",
       " (6.8, 352504),\n",
       " (6.4, 350687),\n",
       " (7.1, 346747),\n",
       " (6.7, 346077),\n",
       " (8.0, 345466),\n",
       " (7.7, 344496),\n",
       " (7.4, 344230),\n",
       " (8.2, 344047),\n",
       " (7.5, 339338),\n",
       " (7.1, 338728),\n",
       " (7.0, 338445),\n",
       " (7.2, 335074),\n",
       " (7.1, 330125),\n",
       " (7.3, 329892),\n",
       " (6.5, 329135),\n",
       " (7.6, 328548),\n",
       " (7.6, 326657),\n",
       " (7.4, 326473),\n",
       " (7.6, 323949),\n",
       " (7.6, 322524),\n",
       " (7.0, 320575),\n",
       " (7.0, 319504),\n",
       " (6.6, 317338),\n",
       " (8.2, 316791),\n",
       " (7.8, 316539),\n",
       " (7.9, 315584),\n",
       " (7.7, 315135),\n",
       " (7.4, 311704),\n",
       " (7.0, 311083),\n",
       " (6.8, 309879),\n",
       " (7.8, 309227),\n",
       " (7.3, 308112),\n",
       " (6.5, 307897),\n",
       " (7.0, 305832),\n",
       " (7.6, 305031),\n",
       " (7.8, 304179),\n",
       " (6.5, 303523),\n",
       " (7.3, 303009),\n",
       " (7.2, 302302),\n",
       " (7.5, 301660),\n",
       " (7.7, 300475),\n",
       " (7.0, 296225),\n",
       " (6.8, 296211),\n",
       " (7.3, 291887),\n",
       " (7.8, 291750),\n",
       " (7.5, 290053),\n",
       " (6.5, 286341),\n",
       " (7.6, 285971),\n",
       " (7.5, 284869),\n",
       " (7.0, 284547),\n",
       " (7.6, 284034),\n",
       " (7.1, 283534),\n",
       " (5.7, 283486),\n",
       " (4.1, 279126),\n",
       " (7.8, 278205),\n",
       " (6.6, 277584),\n",
       " (6.4, 277204),\n",
       " (8.4, 277194),\n",
       " (6.7, 275406),\n",
       " (7.3, 275300),\n",
       " (6.3, 273106),\n",
       " (7.1, 271570),\n",
       " (6.9, 271307),\n",
       " (5.8, 270695),\n",
       " (6.7, 268678),\n",
       " (6.3, 266020),\n",
       " (7.1, 263328),\n",
       " (7.8, 263136),\n",
       " (7.6, 263004),\n",
       " (6.2, 262978),\n",
       " (7.2, 260383),\n",
       " (6.1, 258938),\n",
       " (7.2, 256565),\n",
       " (5.8, 256176),\n",
       " (6.6, 254975),\n",
       " (6.9, 254197),\n",
       " (6.6, 252384),\n",
       " (5.5, 252281),\n",
       " (7.4, 251072),\n",
       " (6.4, 250976),\n",
       " (6.8, 249501),\n",
       " (7.8, 249245),\n",
       " (7.5, 246641),\n",
       " (7.1, 244024),\n",
       " (8.3, 242765),\n",
       " (7.0, 242735),\n",
       " (6.6, 241792),\n",
       " (7.4, 240821),\n",
       " (7.3, 240606),\n",
       " (7.4, 240337),\n",
       " (6.6, 239480),\n",
       " (7.1, 239264),\n",
       " (6.6, 238832),\n",
       " (7.2, 238325),\n",
       " (6.6, 237720),\n",
       " (6.5, 235443),\n",
       " (7.0, 235308),\n",
       " (6.8, 235256),\n",
       " (6.9, 235167),\n",
       " (7.0, 234717),\n",
       " (7.1, 234616),\n",
       " (6.4, 234615),\n",
       " (7.8, 233877),\n",
       " (7.3, 233022),\n",
       " (6.8, 230797),\n",
       " (6.2, 229818),\n",
       " (5.8, 229326),\n",
       " (7.1, 229258),\n",
       " (6.8, 228798),\n",
       " (7.4, 228701),\n",
       " (6.9, 228664),\n",
       " (6.6, 228592),\n",
       " (7.2, 228465),\n",
       " (6.3, 228460),\n",
       " (7.4, 227964),\n",
       " (7.1, 227616),\n",
       " (6.4, 226920),\n",
       " (7.3, 226765),\n",
       " (7.0, 226243),\n",
       " (6.9, 225557),\n",
       " (7.5, 225349),\n",
       " (5.8, 225342),\n",
       " (7.6, 224671),\n",
       " (7.6, 224253),\n",
       " (7.2, 223493),\n",
       " (7.3, 223464),\n",
       " (6.7, 221664),\n",
       " (7.0, 220567),\n",
       " (6.2, 219125),\n",
       " (6.1, 218371),\n",
       " (6.6, 218063),\n",
       " (6.1, 217762),\n",
       " (7.9, 217184),\n",
       " (6.6, 216350),\n",
       " (6.5, 216219),\n",
       " (7.2, 215761),\n",
       " (5.5, 215079),\n",
       " (7.8, 214557),\n",
       " (7.3, 214055),\n",
       " (7.0, 213908),\n",
       " (6.8, 213733),\n",
       " (7.3, 213542),\n",
       " (5.0, 211733),\n",
       " (6.6, 211722),\n",
       " (6.7, 211587),\n",
       " (7.6, 211308),\n",
       " (8.5, 210869),\n",
       " (6.0, 210377),\n",
       " (7.1, 209844),\n",
       " (6.4, 208827),\n",
       " (6.9, 208709),\n",
       " (4.9, 208387),\n",
       " (7.3, 207488),\n",
       " (7.1, 207417),\n",
       " (6.0, 206714),\n",
       " (6.2, 205798),\n",
       " (7.5, 205240),\n",
       " (8.3, 204972),\n",
       " (7.1, 204571),\n",
       " (6.3, 204481),\n",
       " (7.7, 203510),\n",
       " (7.5, 202718),\n",
       " (7.3, 202430),\n",
       " (7.5, 201943),\n",
       " (6.6, 201536),\n",
       " (6.3, 201143),\n",
       " (6.4, 200932),\n",
       " (7.4, 199783),\n",
       " (6.4, 199764),\n",
       " (6.2, 199710),\n",
       " (7.6, 199663),\n",
       " (6.8, 198345),\n",
       " (8.3, 197684),\n",
       " (6.2, 197663),\n",
       " (7.3, 196109),\n",
       " (6.0, 195889),\n",
       " (6.7, 195560),\n",
       " (7.4, 194543),\n",
       " (6.4, 193917),\n",
       " (6.1, 192750),\n",
       " (6.8, 192655),\n",
       " (6.7, 192250),\n",
       " (5.8, 192220),\n",
       " (6.6, 192147),\n",
       " (6.3, 192045),\n",
       " (6.4, 191791),\n",
       " (6.9, 191621),\n",
       " (7.1, 191494),\n",
       " (6.6, 190596),\n",
       " (5.3, 188383),\n",
       " (6.4, 187820),\n",
       " (7.1, 186799),\n",
       " (5.2, 186788),\n",
       " (5.7, 183549),\n",
       " (6.1, 183387),\n",
       " (6.6, 182840),\n",
       " (6.9, 182839),\n",
       " (7.1, 182622),\n",
       " (6.6, 182320),\n",
       " (6.7, 182025),\n",
       " (4.8, 181687),\n",
       " (8.1, 181601),\n",
       " (5.7, 181189),\n",
       " (7.1, 181133),\n",
       " (6.3, 179817),\n",
       " (6.7, 179774),\n",
       " (7.3, 179453),\n",
       " (6.8, 179178),\n",
       " (6.5, 178603),\n",
       " (6.7, 177782),\n",
       " (7.6, 177762),\n",
       " (7.4, 177677),\n",
       " (7.2, 176699),\n",
       " (6.4, 176499),\n",
       " (7.6, 176469),\n",
       " (7.6, 175968),\n",
       " (6.6, 175601),\n",
       " (7.1, 174890),\n",
       " (7.4, 174567),\n",
       " (6.8, 173629),\n",
       " (7.3, 173270),\n",
       " (6.8, 173019),\n",
       " (5.7, 172330),\n",
       " (6.8, 171411),\n",
       " (7.2, 171353),\n",
       " (7.8, 171131),\n",
       " (7.4, 170089),\n",
       " (6.3, 169840),\n",
       " (6.8, 169054),\n",
       " (7.7, 169007),\n",
       " (6.9, 168514),\n",
       " (7.1, 168466),\n",
       " (7.4, 168066),\n",
       " (6.7, 167680),\n",
       " (6.3, 167532),\n",
       " (6.3, 167438),\n",
       " (5.8, 167110),\n",
       " (5.8, 167052),\n",
       " (5.3, 166327),\n",
       " (6.3, 165843),\n",
       " (5.8, 165536),\n",
       " (6.4, 165357),\n",
       " (7.9, 165307),\n",
       " (5.9, 165108),\n",
       " (6.0, 165072),\n",
       " (6.3, 164829),\n",
       " (6.1, 164555),\n",
       " (6.3, 163560),\n",
       " (7.0, 163279),\n",
       " (6.6, 163151),\n",
       " (7.4, 162952),\n",
       " (6.5, 161997),\n",
       " (6.9, 161764),\n",
       " (6.4, 161653),\n",
       " (6.4, 161343),\n",
       " (6.1, 160534),\n",
       " (7.9, 159329),\n",
       " (6.2, 159111),\n",
       " (6.2, 158487),\n",
       " (6.6, 156813),\n",
       " (7.4, 156786),\n",
       " (6.1, 156432),\n",
       " (6.8, 156266),\n",
       " (6.3, 156116),\n",
       " (6.9, 155847),\n",
       " (6.3, 155374),\n",
       " (5.2, 155344),\n",
       " (6.5, 154909),\n",
       " (5.5, 154345),\n",
       " (6.8, 154278),\n",
       " (7.1, 154029),\n",
       " (6.4, 153962),\n",
       " (7.9, 153936),\n",
       " (7.6, 153744),\n",
       " (6.6, 153501),\n",
       " (7.2, 153434),\n",
       " (5.9, 153270),\n",
       " (6.0, 152992),\n",
       " (7.3, 151571),\n",
       " (8.1, 151123),\n",
       " (6.5, 150977),\n",
       " (6.0, 150858),\n",
       " (6.7, 150407),\n",
       " (6.3, 150154),\n",
       " (7.5, 149005),\n",
       " (6.6, 148846),\n",
       " (5.8, 148622),\n",
       " (7.2, 148274),\n",
       " (6.4, 147834),\n",
       " (7.1, 146873),\n",
       " (6.8, 146858),\n",
       " (6.2, 146401),\n",
       " (6.5, 146399),\n",
       " (7.3, 145281),\n",
       " (6.4, 144821),\n",
       " (6.2, 144775),\n",
       " (6.3, 144683),\n",
       " (6.3, 144442),\n",
       " (6.1, 143862),\n",
       " (6.9, 143250),\n",
       " (5.9, 142853),\n",
       " (6.9, 142792),\n",
       " (7.5, 141668),\n",
       " (6.6, 141254),\n",
       " (6.6, 141228),\n",
       " (7.5, 140678),\n",
       " (6.5, 140666),\n",
       " (6.7, 140619),\n",
       " (4.3, 140148),\n",
       " (6.5, 139792),\n",
       " (7.0, 139426),\n",
       " (6.2, 138978),\n",
       " (7.0, 138947),\n",
       " (7.2, 138924),\n",
       " (6.2, 138914),\n",
       " (6.3, 138872),\n",
       " (7.2, 138668),\n",
       " (6.4, 138350),\n",
       " (8.2, 138012),\n",
       " (4.1, 137734),\n",
       " (5.6, 137528),\n",
       " (6.6, 137507),\n",
       " (6.0, 137287),\n",
       " (6.6, 136738),\n",
       " (7.4, 136546),\n",
       " (7.2, 136447),\n",
       " (6.3, 135754),\n",
       " (8.4, 134084),\n",
       " (7.1, 133887),\n",
       " (6.8, 133793),\n",
       " (6.6, 133355),\n",
       " (7.1, 133303),\n",
       " (7.4, 132642),\n",
       " (7.1, 132161),\n",
       " (7.1, 131365),\n",
       " (7.2, 131043),\n",
       " (6.4, 130692),\n",
       " (7.1, 130084),\n",
       " (7.2, 129981),\n",
       " (7.4, 129884),\n",
       " (6.3, 129663),\n",
       " (7.1, 129443),\n",
       " (6.3, 128657),\n",
       " (5.4, 128500),\n",
       " (7.0, 128094),\n",
       " (7.2, 127751),\n",
       " (7.1, 126849),\n",
       " (6.4, 126623),\n",
       " (5.3, 126504),\n",
       " (7.7, 126299),\n",
       " (6.5, 126203),\n",
       " (7.0, 125954),\n",
       " (7.1, 125741),\n",
       " (7.1, 125583),\n",
       " (5.9, 125424),\n",
       " (5.4, 125191),\n",
       " (6.2, 125102),\n",
       " (5.9, 124757),\n",
       " (7.8, 124409),\n",
       " (8.3, 124156),\n",
       " (6.2, 124086),\n",
       " (6.1, 123955),\n",
       " (7.1, 123834),\n",
       " (7.5, 123759),\n",
       " (8.5, 123638),\n",
       " (7.5, 123619),\n",
       " (6.0, 123577),\n",
       " (7.6, 123434),\n",
       " (6.3, 123127),\n",
       " (7.9, 123107),\n",
       " (6.0, 122889),\n",
       " (6.8, 122132),\n",
       " (6.2, 122080),\n",
       " (5.4, 122039),\n",
       " (5.9, 121936),\n",
       " (6.1, 121892),\n",
       " (6.2, 121860),\n",
       " (6.4, 121633),\n",
       " (6.6, 121409),\n",
       " (7.1, 120703),\n",
       " (7.0, 120656),\n",
       " (7.4, 120009),\n",
       " (5.6, 119789),\n",
       " (6.5, 119287),\n",
       " (7.3, 119149),\n",
       " (7.6, 119023),\n",
       " (5.2, 119007),\n",
       " (6.2, 118862),\n",
       " (6.2, 118779),\n",
       " (6.1, 118678),\n",
       " (5.6, 118646),\n",
       " (6.6, 118086),\n",
       " (6.5, 117711),\n",
       " (6.1, 117638),\n",
       " (6.4, 117245),\n",
       " (7.5, 117021),\n",
       " (7.5, 116832),\n",
       " (7.3, 116433),\n",
       " (7.1, 116166),\n",
       " (7.6, 116011),\n",
       " (7.1, 115951),\n",
       " (6.6, 115925),\n",
       " (6.1, 115891),\n",
       " (6.5, 115793),\n",
       " (5.7, 115757),\n",
       " (5.7, 115624),\n",
       " (6.2, 114913),\n",
       " (5.7, 114042),\n",
       " (5.9, 113775),\n",
       " (6.3, 113196),\n",
       " (6.6, 113077),\n",
       " (7.8, 112627),\n",
       " (5.6, 112444),\n",
       " (7.0, 111907),\n",
       " (6.2, 111900),\n",
       " (7.4, 111737),\n",
       " (6.5, 111709),\n",
       " (8.0, 111632),\n",
       " (6.0, 111602),\n",
       " (6.3, 111422),\n",
       " (7.2, 111372),\n",
       " (6.0, 111187),\n",
       " (6.3, 110824),\n",
       " (7.1, 110138),\n",
       " (7.3, 109714),\n",
       " (7.5, 109448),\n",
       " (5.6, 109078),\n",
       " (7.4, 109051),\n",
       " (6.9, 108628),\n",
       " (5.7, 108320),\n",
       " (7.9, 108245),\n",
       " (7.2, 108017),\n",
       " (6.8, 107625),\n",
       " (5.7, 107518),\n",
       " (7.1, 107264),\n",
       " (5.7, 107171),\n",
       " (6.5, 107079),\n",
       " (7.1, 107012),\n",
       " (6.3, 106927),\n",
       " (6.5, 106906),\n",
       " (6.9, 106811),\n",
       " (7.8, 106768),\n",
       " (6.5, 106491),\n",
       " (7.0, 105966),\n",
       " (6.9, 105812),\n",
       " (5.9, 105633),\n",
       " (7.8, 105578),\n",
       " (6.2, 105529),\n",
       " (7.7, 105304),\n",
       " (6.5, 105279),\n",
       " (6.5, 105116),\n",
       " (6.5, 104999),\n",
       " (7.2, 104983),\n",
       " (7.6, 104978),\n",
       " (6.9, 104951),\n",
       " (7.5, 104786),\n",
       " (7.4, 104718),\n",
       " (8.0, 104517),\n",
       " (6.5, 104465),\n",
       " (7.6, 104008),\n",
       " (6.7, 103780),\n",
       " (7.3, 103625),\n",
       " (4.3, 103608),\n",
       " (5.7, 102793),\n",
       " (6.5, 102782),\n",
       " (6.3, 102576),\n",
       " (7.1, 102511),\n",
       " (7.2, 102468),\n",
       " (6.2, 102459),\n",
       " (5.5, 102369),\n",
       " (5.8, 102313),\n",
       " (7.3, 102126),\n",
       " (6.7, 102047),\n",
       " (5.9, 101393),\n",
       " (6.2, 100952),\n",
       " (7.2, 100680),\n",
       " (6.3, 100650),\n",
       " (9.3, 100568),\n",
       " (5.1, 100520),\n",
       " (5.5, 100467),\n",
       " (5.7, 100318),\n",
       " (5.5, 99222),\n",
       " (6.8, 99037),\n",
       " (6.5, 98549),\n",
       " (5.8, 98408),\n",
       " (5.9, 98061),\n",
       " (7.0, 98014),\n",
       " (7.7, 97991),\n",
       " (6.7, 97963),\n",
       " (5.8, 97873),\n",
       " (7.2, 97841),\n",
       " (6.8, 97393),\n",
       " (6.7, 97055),\n",
       " (7.2, 97010),\n",
       " (6.2, 96909),\n",
       " (7.0, 96617),\n",
       " (6.5, 96388),\n",
       " (6.3, 96144),\n",
       " (7.8, 96073),\n",
       " (6.4, 96066),\n",
       " (6.6, 95988),\n",
       " (7.1, 95650),\n",
       " (6.7, 95318),\n",
       " (5.7, 95271),\n",
       " (5.4, 95111),\n",
       " (5.4, 94888),\n",
       " (6.2, 94787),\n",
       " (6.4, 94555),\n",
       " (6.2, 94529),\n",
       " (6.5, 94359),\n",
       " (6.9, 94155),\n",
       " (6.6, 94131),\n",
       " (7.8, 94029),\n",
       " (6.7, 93868),\n",
       " (6.3, 93730),\n",
       " (6.5, 93618),\n",
       " (7.1, 93591),\n",
       " (6.2, 93486),\n",
       " (6.4, 93259),\n",
       " (8.1, 93243),\n",
       " (6.9, 93164),\n",
       " (5.7, 93122),\n",
       " (6.2, 93103),\n",
       " (4.3, 92980),\n",
       " (5.5, 92940),\n",
       " (6.7, 92905),\n",
       " (5.2, 92709),\n",
       " (6.3, 92580),\n",
       " (6.2, 92148),\n",
       " (5.3, 92096),\n",
       " (6.0, 92013),\n",
       " (7.0, 91736),\n",
       " (5.9, 91546),\n",
       " (6.7, 91465),\n",
       " (7.3, 91349),\n",
       " (6.2, 91286),\n",
       " (7.6, 91246),\n",
       " (8.0, 90988),\n",
       " (7.2, 90963),\n",
       " (5.2, 90834),\n",
       " (5.2, 90788),\n",
       " (7.0, 90773),\n",
       " (6.1, 90661),\n",
       " (6.5, 90402),\n",
       " (5.4, 90203),\n",
       " (6.4, 90151),\n",
       " (7.0, 89924),\n",
       " (6.2, 89628),\n",
       " (6.1, 89554),\n",
       " (7.0, 89489),\n",
       " (5.6, 89462),\n",
       " (7.2, 89436),\n",
       " (7.3, 89372),\n",
       " (5.4, 89254),\n",
       " (5.9, 88788),\n",
       " (7.6, 88704),\n",
       " (6.2, 88469),\n",
       " (6.6, 88395),\n",
       " (7.5, 88207),\n",
       " (6.3, 87742),\n",
       " (6.1, 87714),\n",
       " (6.4, 87659),\n",
       " (5.9, 87609),\n",
       " (7.3, 87602),\n",
       " (6.1, 87582),\n",
       " (7.9, 87532),\n",
       " (7.3, 87418),\n",
       " (6.5, 87288),\n",
       " (6.1, 87254),\n",
       " (7.0, 87250),\n",
       " (6.5, 87132),\n",
       " (6.3, 86863),\n",
       " (7.2, 86749),\n",
       " (7.6, 86626),\n",
       " (6.5, 86607),\n",
       " (7.1, 86318),\n",
       " (6.6, 86137),\n",
       " (6.5, 86125),\n",
       " (6.0, 86118),\n",
       " (7.5, 86061),\n",
       " (7.0, 85839),\n",
       " (6.6, 85831),\n",
       " (7.3, 85811),\n",
       " (5.4, 85777),\n",
       " (6.5, 85724),\n",
       " (7.1, 85694),\n",
       " (5.8, 85689),\n",
       " (6.0, 85604),\n",
       " (5.2, 85497),\n",
       " (7.2, 85242),\n",
       " (6.9, 85223),\n",
       " (6.5, 85186),\n",
       " (7.9, 84960),\n",
       " (6.6, 84753),\n",
       " (7.2, 84679),\n",
       " (6.6, 84668),\n",
       " (6.4, 84332),\n",
       " (8.1, 84318),\n",
       " (6.4, 83876),\n",
       " (7.2, 83770),\n",
       " (4.4, 83710),\n",
       " (5.6, 83532),\n",
       " (5.8, 83507),\n",
       " (6.7, 83346),\n",
       " (6.9, 83338),\n",
       " (7.4, 83200),\n",
       " (5.6, 83179),\n",
       " (6.3, 83114),\n",
       " (5.6, 83009),\n",
       " (6.1, 82930),\n",
       " (7.1, 82752),\n",
       " (7.6, 82426),\n",
       " (5.4, 82237),\n",
       " (6.2, 82123),\n",
       " (6.7, 82089),\n",
       " (6.4, 81761),\n",
       " (4.6, 81706),\n",
       " (6.2, 81681),\n",
       " (5.6, 81656),\n",
       " (7.6, 81575),\n",
       " (8.0, 81568),\n",
       " (5.4, 81327),\n",
       " (7.0, 81288),\n",
       " (5.8, 81193),\n",
       " (6.4, 81010),\n",
       " (7.3, 80984),\n",
       " (6.5, 80743),\n",
       " (6.4, 80738),\n",
       " (6.0, 80540),\n",
       " (5.7, 80510),\n",
       " (7.5, 80382),\n",
       " (6.0, 80254),\n",
       " (7.1, 80152),\n",
       " (6.2, 79951),\n",
       " (7.3, 79810),\n",
       " (6.8, 79786),\n",
       " (6.2, 79764),\n",
       " (6.4, 79578),\n",
       " (5.6, 79510),\n",
       " (6.6, 79451),\n",
       " (7.2, 79383),\n",
       " (6.3, 79381),\n",
       " (7.0, 79337),\n",
       " (8.1, 79272),\n",
       " (6.6, 79100),\n",
       " (6.7, 78936),\n",
       " (7.2, 78903),\n",
       " (6.8, 78764),\n",
       " (5.8, 78681),\n",
       " (5.3, 78287),\n",
       " (6.7, 78226),\n",
       " (6.5, 78142),\n",
       " (7.0, 78099),\n",
       " (5.2, 77976),\n",
       " (5.6, 77726),\n",
       " (5.8, 77709),\n",
       " (7.5, 77703),\n",
       " (7.5, 77633),\n",
       " (5.5, 77577),\n",
       " (7.1, 77576),\n",
       " (7.0, 77447),\n",
       " (7.3, 77440),\n",
       " (6.0, 77234),\n",
       " (6.2, 77166),\n",
       " (6.1, 76769),\n",
       " (5.7, 76656),\n",
       " (7.2, 76557),\n",
       " (6.8, 76339),\n",
       " (7.4, 76204),\n",
       " (7.4, 75331),\n",
       " (7.3, 75183),\n",
       " (8.0, 75071),\n",
       " (7.4, 74998),\n",
       " (5.6, 74979),\n",
       " (1.6, 74978),\n",
       " (7.7, 74937),\n",
       " (6.0, 74914),\n",
       " (5.1, 74910),\n",
       " (6.0, 74849),\n",
       " (5.7, 74815),\n",
       " (8.0, 74651),\n",
       " (6.4, 74639),\n",
       " (6.5, 74486),\n",
       " (6.1, 74329),\n",
       " (6.4, 74085),\n",
       " (6.3, 74071),\n",
       " (7.0, 73790),\n",
       " (7.2, 73230),\n",
       " (6.8, 73217),\n",
       " (8.0, 73063),\n",
       " (6.3, 72858),\n",
       " (7.2, 72855),\n",
       " (5.6, 72599),\n",
       " (5.1, 72552),\n",
       " (6.7, 72551),\n",
       " (5.3, 72536),\n",
       " (7.2, 72503),\n",
       " (6.2, 72359),\n",
       " (7.3, 72301),\n",
       " (7.8, 72297),\n",
       " (6.3, 72209),\n",
       " (6.5, 72202),\n",
       " (7.6, 72193),\n",
       " (1.8, 71887),\n",
       " (7.3, 71875),\n",
       " (6.2, 71704),\n",
       " (6.6, 71519),\n",
       " (6.4, 71500),\n",
       " (6.8, 71460),\n",
       " (3.3, 71361),\n",
       " (6.4, 71021),\n",
       " (6.4, 70941),\n",
       " (6.9, 70888),\n",
       " (6.4, 70706),\n",
       " (6.8, 70604),\n",
       " (7.5, 70416),\n",
       " (7.1, 70327),\n",
       " (7.1, 70308),\n",
       " (7.1, 70298),\n",
       " (6.8, 70222),\n",
       " (6.7, 70213),\n",
       " (6.1, 70193),\n",
       " (7.0, 70130),\n",
       " (7.5, 70051),\n",
       " (6.5, 70040),\n",
       " (5.6, 69968),\n",
       " (5.9, 69910),\n",
       " (7.0, 69648),\n",
       " (6.3, 69624),\n",
       " (5.4, 69599),\n",
       " (7.3, 69562),\n",
       " (7.7, 69559),\n",
       " (6.4, 69340),\n",
       " (4.4, 69199),\n",
       " (5.6, 69081),\n",
       " (8.2, 69051),\n",
       " (6.2, 69039),\n",
       " (6.0, 68957),\n",
       " (8.1, 68941),\n",
       " (7.5, 68840),\n",
       " (6.3, 68592),\n",
       " (5.9, 68557),\n",
       " (4.9, 68328),\n",
       " (6.8, 68315),\n",
       " (7.6, 68266),\n",
       " (7.5, 68187),\n",
       " (6.1, 67922),\n",
       " (6.6, 67921),\n",
       " (6.8, 67914),\n",
       " (6.7, 67842),\n",
       " (5.9, 67549),\n",
       " (6.5, 67367),\n",
       " (5.7, 67275),\n",
       " (6.7, 66893),\n",
       " (6.2, 66892),\n",
       " (4.5, 66824),\n",
       " (7.1, 66595),\n",
       " (5.5, 66565),\n",
       " (6.6, 66475),\n",
       " (6.6, 66418),\n",
       " (6.4, 66347),\n",
       " (5.6, 66303),\n",
       " (7.3, 66209),\n",
       " (6.7, 66008),\n",
       " (7.2, 65913),\n",
       " (5.7, 65890),\n",
       " (6.3, 65754),\n",
       " (6.6, 65722),\n",
       " (8.3, 65656),\n",
       " (5.7, 65575),\n",
       " (6.9, 65571),\n",
       " (8.3, 65304),\n",
       " (6.6, 65202),\n",
       " (6.3, 64684),\n",
       " (6.8, 64662),\n",
       " (7.3, 64418),\n",
       " (7.8, 63797),\n",
       " (6.2, 63793),\n",
       " (6.5, 63787),\n",
       " (8.0, 63747),\n",
       " (7.0, 63470),\n",
       " (6.5, 63295),\n",
       " (5.8, 63231),\n",
       " (7.2, 63156),\n",
       " (6.4, 62994),\n",
       " (5.8, 62942),\n",
       " (7.3, 62683),\n",
       " (6.9, 62589),\n",
       " (6.6, 62466),\n",
       " (6.2, 62311),\n",
       " (6.3, 62151),\n",
       " (5.6, 62043),\n",
       " (7.0, 61615),\n",
       " (7.0, 61547),\n",
       " (6.2, 61475),\n",
       " (5.5, 61366),\n",
       " (6.2, 61317),\n",
       " (6.5, 61238),\n",
       " (4.9, 61178),\n",
       " (6.9, 61046),\n",
       " (7.8, 60943),\n",
       " (5.8, 60894),\n",
       " (7.6, 60769),\n",
       " (6.4, 60510),\n",
       " (6.3, 60369),\n",
       " (6.7, 60355),\n",
       " (5.0, 60304),\n",
       " (6.8, 60303),\n",
       " (6.5, 60260),\n",
       " (6.5, 60215),\n",
       " (7.0, 60165),\n",
       " (3.5, 60139),\n",
       " (6.8, 60074),\n",
       " (6.5, 60070),\n",
       " (7.4, 60026),\n",
       " (6.0, 59995),\n",
       " (4.7, 59914),\n",
       " (6.7, 59750),\n",
       " (6.0, 59714),\n",
       " (7.3, 59486),\n",
       " (6.5, 59477),\n",
       " (6.8, 59408),\n",
       " (6.3, 59293),\n",
       " (6.2, 59266),\n",
       " (5.8, 59253),\n",
       " (7.1, 59229),\n",
       " (6.6, 59054),\n",
       " (6.0, 58994),\n",
       " (7.3, 58962),\n",
       " (7.1, 58955),\n",
       " (6.1, 58927),\n",
       " (8.1, 58912),\n",
       " (7.5, 58887),\n",
       " (6.8, 58864),\n",
       " (7.1, 58811),\n",
       " (8.0, 58721),\n",
       " (8.2, 58654),\n",
       " (6.4, 58455),\n",
       " (4.6, 58408),\n",
       " (6.1, 58407),\n",
       " (7.1, 58342),\n",
       " (5.6, 58235),\n",
       " (5.4, 58185),\n",
       " (7.6, 58142),\n",
       " (7.3, 58010),\n",
       " (6.9, 57976),\n",
       " (6.2, 57793),\n",
       " (7.4, 57549),\n",
       " (5.6, 57396),\n",
       " (6.8, 57277),\n",
       " (5.8, 57184),\n",
       " (6.2, 57142),\n",
       " (6.4, 57033),\n",
       " (5.0, 56832),\n",
       " (8.1, 56582),\n",
       " (2.2, 56405),\n",
       " (6.8, 56129),\n",
       " (6.7, 56108),\n",
       " (6.8, 55981),\n",
       " (5.8, 55867),\n",
       " (6.7, 55841),\n",
       " (7.0, 55698),\n",
       " (5.7, 55597),\n",
       " ...]"
      ]
     },
     "execution_count": 245,
     "metadata": {},
     "output_type": "execute_result"
    }
   ],
   "source": [
    "# Get and print the top 9 movies with the highest number of votes, ordered by average rating\n",
    "highest_voted_movies = get_highest_voted_movies(cur)\n",
    "highest_voted_movies"
   ]
  },
  {
   "cell_type": "markdown",
   "metadata": {},
   "source": [
    "# Visualization "
   ]
  },
  {
   "cell_type": "code",
   "execution_count": 248,
   "metadata": {},
   "outputs": [],
   "source": [
    "# Function to create a bar chart for the top 3 movies by number of votes\n",
    "def plot_top_movies_by_votes(data):\n",
    "    titles = [record[0] for record in data]\n",
    "    num_votes = [record[1] for record in data]\n",
    "    \n",
    "    plt.figure(figsize=(10, 6))\n",
    "    plt.scatter(titles, num_votes, color='skyblue')\n",
    "    plt.ylabel('Number of Votes')\n",
    "    plt.xlabel('Average Rating')\n",
    "    plt.title('Movies by Number of Votes')\n",
    "    plt.tight_layout()\n",
    "    plt.show()"
   ]
  },
  {
   "cell_type": "code",
   "execution_count": 249,
   "metadata": {
    "scrolled": false
   },
   "outputs": [
    {
     "data": {
      "image/png": "[encoded data removed]",
      "text/plain": [
       "<Figure size 720x432 with 1 Axes>"
      ]
     },
     "metadata": {
      "needs_background": "light"
     },
     "output_type": "display_data"
    }
   ],
   "source": [
    "# Create a bar chart for the top  movies by number of votes\n",
    "plot_top_movies_by_votes(highest_voted_movies)"
   ]
  },
  {
   "cell_type": "markdown",
   "metadata": {},
   "source": [
    "# Finding"
   ]
  },
  {
   "cell_type": "markdown",
   "metadata": {},
   "source": [
    "The observation reveals that the highest number of votes corresponds to an average rating falling within the range of 5.9 to 8.3."
   ]
  },
  {
   "cell_type": "markdown",
   "metadata": {},
   "source": [
    "Question 4\n",
    "What are the most watched genres?\n",
    "To answer this we further ask ourselves 2 other questions\n",
    "\n"
   ]
  },
  {
   "cell_type": "markdown",
   "metadata": {},
   "source": [
    "Question 4.1\n",
    "What are the best rated genres by average?"
   ]
  },
  {
   "cell_type": "code",
   "execution_count": 93,
   "metadata": {},
   "outputs": [],
   "source": [
    "# Function to get the top 15 genres with the best average ratings\n",
    "def get_top_genres_by_average_rating(cur):\n",
    "    cur.execute(\"\"\"\n",
    "        SELECT genres, ROUND(AVG(averagerating), 1) AS average_rating_per_genre\n",
    "        FROM movie_tables\n",
    "        GROUP BY genres\n",
    "        ORDER BY average_rating_per_genre DESC\n",
    "        LIMIT 15\n",
    "    \"\"\")\n",
    "    return cur.fetchall()"
   ]
  },
  {
   "cell_type": "code",
   "execution_count": 98,
   "metadata": {},
   "outputs": [
    {
     "data": {
      "text/plain": [
       "[('Comedy,Documentary,Fantasy', 9.4),\n",
       " ('Documentary,Family,Musical', 9.3),\n",
       " ('Game-Show', 9.0),\n",
       " ('Drama,Short', 8.8),\n",
       " ('Documentary,News,Sport', 8.8),\n",
       " ('Documentary,News,Reality-TV', 8.8),\n",
       " ('Action,Adventure,Musical', 8.7),\n",
       " ('Biography,History,Music', 8.5),\n",
       " ('Adventure,Crime', 8.5),\n",
       " ('Mystery,News,Thriller', 8.4),\n",
       " ('Music,Musical,Romance', 8.4),\n",
       " ('Documentary,Music,War', 8.3),\n",
       " ('Documentary,Fantasy,Mystery', 8.3),\n",
       " ('Comedy,History,Musical', 8.3),\n",
       " ('Biography,Family,History', 8.3)]"
      ]
     },
     "execution_count": 98,
     "metadata": {},
     "output_type": "execute_result"
    }
   ],
   "source": [
    "# Get and print the top 15 genres with the best average ratings\n",
    "top_genres_by_average_rating = get_top_genres_by_average_rating(cur)\n",
    "top_genres_by_average_rating"
   ]
  },
  {
   "cell_type": "markdown",
   "metadata": {},
   "source": [
    "Question 4.2\n",
    "What is the watchtime of these genres?"
   ]
  },
  {
   "cell_type": "code",
   "execution_count": 95,
   "metadata": {},
   "outputs": [],
   "source": [
    "# Function to get the top 5 genres with the greatest runtime_minutes\n",
    "def get_top_genres_by_runtime(cur):\n",
    "    cur.execute(\"\"\"\n",
    "        SELECT genres, runtime_minutes\n",
    "        FROM movie_tables\n",
    "        ORDER BY runtime_minutes DESC, averagerating DESC\n",
    "        LIMIT 5\n",
    "    \"\"\")\n",
    "    return cur.fetchall()"
   ]
  },
  {
   "cell_type": "code",
   "execution_count": 96,
   "metadata": {},
   "outputs": [
    {
     "data": {
      "text/plain": [
       "[('Documentary', 51420.0),\n",
       " ('Documentary', 14400.0),\n",
       " ('Drama', 1440.0),\n",
       " ('Comedy,History', 1100.0),\n",
       " ('Drama,Fantasy,Musical', 808.0)]"
      ]
     },
     "execution_count": 96,
     "metadata": {},
     "output_type": "execute_result"
    }
   ],
   "source": [
    "# Get and print the top 5 genres with the greatest runtime_minutes\n",
    "top_genres_by_runtime = get_top_genres_by_runtime(cur)\n",
    "top_genres_by_runtime"
   ]
  },
  {
   "cell_type": "code",
   "execution_count": 99,
   "metadata": {},
   "outputs": [],
   "source": [
    "# Function to create a bar chart for average ratings by genre\n",
    "def plot_average_ratings_by_genre(data):\n",
    "    genres = [row[0] for row in data]\n",
    "    average_ratings = [row[1] for row in data]\n",
    "    \n",
    "    plt.figure(figsize=(10, 6))\n",
    "    plt.bar(genres, average_ratings)\n",
    "    plt.xlabel('Genres')\n",
    "    plt.ylabel('Average Ratings')\n",
    "    plt.title('Average Ratings by Genre')\n",
    "    plt.xticks(rotation=45)\n",
    "    plt.tight_layout()\n",
    "    plt.show()"
   ]
  },
  {
   "cell_type": "code",
   "execution_count": 100,
   "metadata": {},
   "outputs": [
    {
     "data": {
      "image/png": "[encoded data removed]",
      "text/plain": [
       "<Figure size 720x432 with 1 Axes>"
      ]
     },
     "metadata": {
      "needs_background": "light"
     },
     "output_type": "display_data"
    }
   ],
   "source": [
    "# Create a bar chart for average ratings by genre\n",
    "plot_average_ratings_by_genre(top_genres_by_average_rating)"
   ]
  },
  {
   "cell_type": "markdown",
   "metadata": {},
   "source": [
    "# Finding"
   ]
  },
  {
   "cell_type": "markdown",
   "metadata": {},
   "source": [
    "The analysis indicates that genres such as documentaries, comedy, fantasy, musical, and drama garnered the highest levels of appreciation based on their respective average ratings."
   ]
  },
  {
   "cell_type": "code",
   "execution_count": 101,
   "metadata": {},
   "outputs": [],
   "source": [
    "# Close the database connection\n",
    "con.close()"
   ]
  },
  {
   "cell_type": "markdown",
   "metadata": {},
   "source": [
    "# RECOMMENDATIONS\n"
   ]
  },
  {
   "cell_type": "markdown",
   "metadata": {},
   "source": [
    "1.I recommend film industry professionals adopt a diversified international approach. This entails customizing marketing strategies and content localization for specific foreign markets, recognizing that success abroad may not mirror domestic performance, ultimately enhancing global distribution and revenue potential.\n"
   ]
  },
  {
   "cell_type": "markdown",
   "metadata": {},
   "source": [
    "2.Decision-makers in the entertainment industry to concentrate their resources and promotional efforts on content that tends to receive average ratings between 5.9 and 8.3. This range appears to resonate most with audiences and is likely to yield greater viewer engagement and satisfaction."
   ]
  },
  {
   "cell_type": "markdown",
   "metadata": {},
   "source": [
    "\n",
    "3.I recommend content creators prioritize genres like documentaries, comedy, fantasy, musical, and drama\n",
    "which consistently receive high average ratings, indicating strong audience engagement potential.\n",
    "Focusing on these genres can boost the success and impact of entertainment projects."
   ]
  }
 ],
 "metadata": {
  "kernelspec": {
   "display_name": "Python 3",
   "language": "python",
   "name": "python3"
  },
  "language_info": {
   "codemirror_mode": {
    "name": "ipython",
    "version": 3
   },
   "file_extension": ".py",
   "mimetype": "text/x-python",
   "name": "python",
   "nbconvert_exporter": "python",
   "pygments_lexer": "ipython3",
   "version": "3.8.5"
  }
 },
 "nbformat": 4,
 "nbformat_minor": 2
}
